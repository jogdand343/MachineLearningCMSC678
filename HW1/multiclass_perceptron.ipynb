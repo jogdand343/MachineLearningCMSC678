{
 "cells": [
  {
   "cell_type": "code",
   "execution_count": 214,
   "metadata": {},
   "outputs": [],
   "source": [
    "import pandas as pd\n",
    "data = pd.read_csv('./Downloads/data.txt',sep=\" \",header=None)\n",
    "labels = pd.read_csv('./Downloads/labels.txt',sep=\" \",header=None)\n",
    "data = data.to_numpy()\n",
    "labels = labels.to_numpy()"
   ]
  },
  {
   "cell_type": "code",
   "execution_count": 243,
   "metadata": {},
   "outputs": [],
   "source": [
    "import numpy as np\n",
    "import random as rd\n",
    "\n",
    "#This function has the update rules. Where the same weights are returns if predicted = 0 or weights are updated.\n",
    "def update(weights, data_point, labels, alpha=.1):\n",
    "    b = np.dot(data_point, weights[1:,0]) + weights[0,0]\n",
    "    a = b>0\n",
    "    predicted = a*1\n",
    "    weight_temp = np.zeros(np.shape(weights+1))\n",
    "    weight_temp[1:,0] = alpha*(labels-predicted)*data_point\n",
    "    weight_temp[0,0] = (labels - predicted) * alpha\n",
    "    return weight_temp+weights\n",
    "\n",
    "#This function trains the model and calls weight function which updates it\n",
    "def train(data, labels, weights, alpha = .001, iterations = 500):\n",
    "    for j in range(0, iterations):\n",
    "        p = np.random.permutation(len(data))\n",
    "        for i in p:\n",
    "            weights = update(weights, data[i], labels[i], alpha)\n",
    "    return weights\n",
    "\n",
    "#weights are initialized and weights are trained for each label \n",
    "def compute_weights(data,labels):\n",
    "    c,d = np.shape(data)\n",
    "    w  = np.reshape(np.zeros(d+1),(d+1,1))\n",
    "    weights = []\n",
    "    for i in range(10):\n",
    "        z=(labels == i)*1\n",
    "        a=train(data, z, w, .01, 500)\n",
    "        weights.append(a[:,0])\n",
    "    return np.asarray(weights)\n",
    "\n",
    "#Testing the model\n",
    "def test_all(data, labels, weights):\n",
    "    a, b = np.shape(labels)\n",
    "    c = np.dot(data,np.transpose(weights[:,1:])) + weights[:,0]\n",
    "    d = len(np.shape(data))\n",
    "    if d == 1:\n",
    "        predicted = np.argmax(c)\n",
    "    predicted = np.argmax(c, axis=1)\n",
    "    correct = predicted == labels[:,0]\n",
    "    accuracy = np.sum(correct)/float(a)\n",
    "    return accuracy"
   ]
  },
  {
   "cell_type": "code",
   "execution_count": 236,
   "metadata": {},
   "outputs": [
    {
     "name": "stdout",
     "output_type": "stream",
     "text": [
      "Training Accuracy for 5 iterations:  0.868\n",
      "Test Accuracy for 5 iterations:  0.8332\n"
     ]
    }
   ],
   "source": [
    "if __name__ == '__main__':\n",
    "    p = np.random.permutation(10000)\n",
    "    weights=compute_weights(data[p[0:5000]],labels[p[0:5000]])\n",
    "    print(\"Training Accuracy for 5 iterations: \",test_all(data[p[0:5000]],labels[p[0:5000]],weights))\n",
    "    print(\"Test Accuracy for 5 iterations: \",test_all(data[p[5000:]],labels[p[5000:]],weights))"
   ]
  },
  {
   "cell_type": "code",
   "execution_count": 232,
   "metadata": {},
   "outputs": [
    {
     "name": "stdout",
     "output_type": "stream",
     "text": [
      "Training Accuracy for 50 iterations:  0.961\n",
      "Test Accuracy for 50 iterations:  0.8736\n"
     ]
    }
   ],
   "source": [
    "if __name__ == '__main__':\n",
    "    p = np.random.permutation(10000)\n",
    "    weights=compute_weights(data[p[0:5000]],labels[p[0:5000]])\n",
    "    print(\"Training Accuracy for 50 iterations: \",test_all(data[p[0:5000]],labels[p[0:5000]],weights))\n",
    "    print(\"Test Accuracy for 50 iterations: \",test_all(data[p[5000:]],labels[p[5000:]],weights))"
   ]
  },
  {
   "cell_type": "code",
   "execution_count": 244,
   "metadata": {},
   "outputs": [
    {
     "name": "stdout",
     "output_type": "stream",
     "text": [
      "Training Accuracy for 500 iterations:  0.9804\n",
      "Test Accuracy for 500 iterations:  0.8596\n"
     ]
    }
   ],
   "source": [
    "if __name__ == '__main__':\n",
    "    p = np.random.permutation(10000)\n",
    "    weights=compute_weights(data[p[0:5000]],labels[p[0:5000]])\n",
    "    print(\"Training Accuracy for 500 iterations: \",test_all(data[p[0:5000]],labels[p[0:5000]],weights))\n",
    "    print(\"Test Accuracy for 500 iterations: \",test_all(data[p[5000:]],labels[p[5000:]],weights))"
   ]
  },
  {
   "cell_type": "markdown",
   "metadata": {},
   "source": [
    "First of all, data is randomised and split into two halves. The model is trained on the first half and tested on the second half. Weights are initilized as zeroes earlier and then they are updated according to the predictions. If the predictions match the label, then no changes to weights are made, but if the prediction is wrong, weights are updated respectivily. The first function which is called is the compute_weights functions. In that functions, weights are initialised. The weights are set as zeroes using the np.zeroes function. Then the models is being trained for 10 times for every class. Calculated weights are appended and are returned. In the train function, the model is trained for the number of value of \"iterations\" passed. And weights function is called from here. In the weights function, dot product is being calculated where, if the value of the dot product is above 0, then the weights are not changed but if the value is = 0 or less than 0, then changes are made to the weights. A small learning rate i.e alpha is set as 0.1 to avoid extreme weight changes. This function returns the updated weight values. The model was trained for 5, 50 and 500 iterations. There was a significant improvement when the iterations were changed from 5 to 50 but the accuracy for test fell when the iterations were changed to 500 where as the accuracy for training increased. This indicated overfitting. Thus, I chose this as the convergence criteria for my model.  "
   ]
  },
  {
   "cell_type": "code",
   "execution_count": null,
   "metadata": {},
   "outputs": [],
   "source": []
  },
  {
   "cell_type": "code",
   "execution_count": null,
   "metadata": {},
   "outputs": [],
   "source": []
  }
 ],
 "metadata": {
  "kernelspec": {
   "display_name": "Python 3",
   "language": "python",
   "name": "python3"
  },
  "language_info": {
   "codemirror_mode": {
    "name": "ipython",
    "version": 3
   },
   "file_extension": ".py",
   "mimetype": "text/x-python",
   "name": "python",
   "nbconvert_exporter": "python",
   "pygments_lexer": "ipython3",
   "version": "3.7.4"
  }
 },
 "nbformat": 4,
 "nbformat_minor": 4
}
